{
 "cells": [
  {
   "cell_type": "code",
   "execution_count": 1,
   "id": "06005711",
   "metadata": {},
   "outputs": [
    {
     "name": "stdout",
     "output_type": "stream",
     "text": [
      "Requirement already satisfied: selenium in c:\\users\\rishabh johri\\anaconda3\\lib\\site-packages (4.4.3)\n",
      "Requirement already satisfied: trio-websocket~=0.9 in c:\\users\\rishabh johri\\anaconda3\\lib\\site-packages (from selenium) (0.9.2)\n",
      "Requirement already satisfied: urllib3[socks]~=1.26 in c:\\users\\rishabh johri\\anaconda3\\lib\\site-packages (from selenium) (1.26.9)\n",
      "Requirement already satisfied: trio~=0.17 in c:\\users\\rishabh johri\\anaconda3\\lib\\site-packages (from selenium) (0.21.0)\n",
      "Requirement already satisfied: certifi>=2021.10.8 in c:\\users\\rishabh johri\\anaconda3\\lib\\site-packages (from selenium) (2021.10.8)\n",
      "Requirement already satisfied: idna in c:\\users\\rishabh johri\\anaconda3\\lib\\site-packages (from trio~=0.17->selenium) (3.3)\n",
      "Requirement already satisfied: outcome in c:\\users\\rishabh johri\\anaconda3\\lib\\site-packages (from trio~=0.17->selenium) (1.2.0)\n",
      "Requirement already satisfied: attrs>=19.2.0 in c:\\users\\rishabh johri\\anaconda3\\lib\\site-packages (from trio~=0.17->selenium) (21.4.0)\n",
      "Requirement already satisfied: async-generator>=1.9 in c:\\users\\rishabh johri\\anaconda3\\lib\\site-packages (from trio~=0.17->selenium) (1.10)\n",
      "Requirement already satisfied: cffi>=1.14 in c:\\users\\rishabh johri\\anaconda3\\lib\\site-packages (from trio~=0.17->selenium) (1.15.0)\n",
      "Requirement already satisfied: sniffio in c:\\users\\rishabh johri\\anaconda3\\lib\\site-packages (from trio~=0.17->selenium) (1.2.0)\n",
      "Requirement already satisfied: sortedcontainers in c:\\users\\rishabh johri\\anaconda3\\lib\\site-packages (from trio~=0.17->selenium) (2.4.0)\n",
      "Requirement already satisfied: pycparser in c:\\users\\rishabh johri\\anaconda3\\lib\\site-packages (from cffi>=1.14->trio~=0.17->selenium) (2.21)\n",
      "Requirement already satisfied: wsproto>=0.14 in c:\\users\\rishabh johri\\anaconda3\\lib\\site-packages (from trio-websocket~=0.9->selenium) (1.2.0)\n",
      "Requirement already satisfied: PySocks!=1.5.7,<2.0,>=1.5.6 in c:\\users\\rishabh johri\\anaconda3\\lib\\site-packages (from urllib3[socks]~=1.26->selenium) (1.7.1)\n",
      "Requirement already satisfied: h11<1,>=0.9.0 in c:\\users\\rishabh johri\\anaconda3\\lib\\site-packages (from wsproto>=0.14->trio-websocket~=0.9->selenium) (0.13.0)\n"
     ]
    }
   ],
   "source": [
    "!pip install selenium"
   ]
  },
  {
   "cell_type": "code",
   "execution_count": 1,
   "id": "933f8d1b",
   "metadata": {},
   "outputs": [],
   "source": [
    "import selenium\n",
    "import pandas as pd\n",
    "from selenium import webdriver\n",
    "import warnings\n",
    "warnings.filterwarnings('ignore')\n",
    "from selenium.common.exceptions import StaleElementReferenceException, NoSuchElementException\n",
    "from selenium.webdriver.common.by import By\n",
    "import time\n",
    "from selenium.webdriver.chrome.service import Service"
   ]
  },
  {
   "cell_type": "code",
   "execution_count": 2,
   "id": "b1507e1e",
   "metadata": {},
   "outputs": [],
   "source": [
    "path=Service(\"C:\\\\Users\\\\RISHABH JOHRI\\\\Desktop\\\\chromedriver_win32\\\\chromedriver.exe\")"
   ]
  },
  {
   "cell_type": "code",
   "execution_count": 3,
   "id": "4db14cda",
   "metadata": {},
   "outputs": [],
   "source": [
    "driver = webdriver.Chrome(r\"chromedriver.exe\")"
   ]
  },
  {
   "cell_type": "code",
   "execution_count": 4,
   "id": "23ae856e",
   "metadata": {},
   "outputs": [],
   "source": [
    "url=\"https://www.olx.in\"\n",
    "driver.get(url)\n",
    "time.sleep(2)"
   ]
  },
  {
   "cell_type": "code",
   "execution_count": 5,
   "id": "cb44efba",
   "metadata": {},
   "outputs": [
    {
     "ename": "NoSuchElementException",
     "evalue": "Message: no such element: Unable to locate element: {\"method\":\"xpath\",\"selector\":\"//form[@class=\"rui-1Azjs _20jkh\"]/fieldset/div/input\"}\n  (Session info: chrome=107.0.5304.107)\nStacktrace:\nBacktrace:\n\tOrdinal0 [0x00B0ACD3+2075859]\n\tOrdinal0 [0x00A9EE61+1633889]\n\tOrdinal0 [0x0099B7BD+571325]\n\tOrdinal0 [0x009CAC2F+764975]\n\tOrdinal0 [0x009CAE1B+765467]\n\tOrdinal0 [0x009FD0F2+970994]\n\tOrdinal0 [0x009E7364+881508]\n\tOrdinal0 [0x009FB56A+963946]\n\tOrdinal0 [0x009E7136+880950]\n\tOrdinal0 [0x009BFEFD+720637]\n\tOrdinal0 [0x009C0F3F+724799]\n\tGetHandleVerifier [0x00DBEED2+2769538]\n\tGetHandleVerifier [0x00DB0D95+2711877]\n\tGetHandleVerifier [0x00B9A03A+521194]\n\tGetHandleVerifier [0x00B98DA0+516432]\n\tOrdinal0 [0x00AA682C+1665068]\n\tOrdinal0 [0x00AAB128+1683752]\n\tOrdinal0 [0x00AAB215+1683989]\n\tOrdinal0 [0x00AB6484+1729668]\n\tBaseThreadInitThunk [0x75296739+25]\n\tRtlGetFullPathName_UEx [0x77068FD2+1218]\n\tRtlGetFullPathName_UEx [0x77068F9D+1165]\n",
     "output_type": "error",
     "traceback": [
      "\u001b[1;31m---------------------------------------------------------------------------\u001b[0m",
      "\u001b[1;31mNoSuchElementException\u001b[0m                    Traceback (most recent call last)",
      "Input \u001b[1;32mIn [5]\u001b[0m, in \u001b[0;36m<cell line: 2>\u001b[1;34m()\u001b[0m\n\u001b[0;32m      1\u001b[0m \u001b[38;5;66;03m# For typing cars in search field:-\u001b[39;00m\n\u001b[1;32m----> 2\u001b[0m s_field\u001b[38;5;241m=\u001b[39m\u001b[43mdriver\u001b[49m\u001b[38;5;241;43m.\u001b[39;49m\u001b[43mfind_element\u001b[49m\u001b[43m(\u001b[49m\u001b[43mBy\u001b[49m\u001b[38;5;241;43m.\u001b[39;49m\u001b[43mXPATH\u001b[49m\u001b[43m,\u001b[49m\u001b[38;5;124;43m'\u001b[39;49m\u001b[38;5;124;43m//form[@class=\u001b[39;49m\u001b[38;5;124;43m\"\u001b[39;49m\u001b[38;5;124;43mrui-1Azjs _20jkh\u001b[39;49m\u001b[38;5;124;43m\"\u001b[39;49m\u001b[38;5;124;43m]/fieldset/div/input\u001b[39;49m\u001b[38;5;124;43m'\u001b[39;49m\u001b[43m)\u001b[49m\n\u001b[0;32m      3\u001b[0m s_field\u001b[38;5;241m.\u001b[39msend_keys(\u001b[38;5;124m\"\u001b[39m\u001b[38;5;124mused cars in delhi\u001b[39m\u001b[38;5;124m\"\u001b[39m)\n\u001b[0;32m      4\u001b[0m time\u001b[38;5;241m.\u001b[39msleep(\u001b[38;5;241m2\u001b[39m)\n",
      "File \u001b[1;32m~\\anaconda3\\lib\\site-packages\\selenium\\webdriver\\remote\\webdriver.py:855\u001b[0m, in \u001b[0;36mWebDriver.find_element\u001b[1;34m(self, by, value)\u001b[0m\n\u001b[0;32m    852\u001b[0m     by \u001b[38;5;241m=\u001b[39m By\u001b[38;5;241m.\u001b[39mCSS_SELECTOR\n\u001b[0;32m    853\u001b[0m     value \u001b[38;5;241m=\u001b[39m \u001b[38;5;124m'\u001b[39m\u001b[38;5;124m[name=\u001b[39m\u001b[38;5;124m\"\u001b[39m\u001b[38;5;132;01m%s\u001b[39;00m\u001b[38;5;124m\"\u001b[39m\u001b[38;5;124m]\u001b[39m\u001b[38;5;124m'\u001b[39m \u001b[38;5;241m%\u001b[39m value\n\u001b[1;32m--> 855\u001b[0m \u001b[38;5;28;01mreturn\u001b[39;00m \u001b[38;5;28;43mself\u001b[39;49m\u001b[38;5;241;43m.\u001b[39;49m\u001b[43mexecute\u001b[49m\u001b[43m(\u001b[49m\u001b[43mCommand\u001b[49m\u001b[38;5;241;43m.\u001b[39;49m\u001b[43mFIND_ELEMENT\u001b[49m\u001b[43m,\u001b[49m\u001b[43m \u001b[49m\u001b[43m{\u001b[49m\n\u001b[0;32m    856\u001b[0m \u001b[43m    \u001b[49m\u001b[38;5;124;43m'\u001b[39;49m\u001b[38;5;124;43musing\u001b[39;49m\u001b[38;5;124;43m'\u001b[39;49m\u001b[43m:\u001b[49m\u001b[43m \u001b[49m\u001b[43mby\u001b[49m\u001b[43m,\u001b[49m\n\u001b[0;32m    857\u001b[0m \u001b[43m    \u001b[49m\u001b[38;5;124;43m'\u001b[39;49m\u001b[38;5;124;43mvalue\u001b[39;49m\u001b[38;5;124;43m'\u001b[39;49m\u001b[43m:\u001b[49m\u001b[43m \u001b[49m\u001b[43mvalue\u001b[49m\u001b[43m}\u001b[49m\u001b[43m)\u001b[49m[\u001b[38;5;124m'\u001b[39m\u001b[38;5;124mvalue\u001b[39m\u001b[38;5;124m'\u001b[39m]\n",
      "File \u001b[1;32m~\\anaconda3\\lib\\site-packages\\selenium\\webdriver\\remote\\webdriver.py:428\u001b[0m, in \u001b[0;36mWebDriver.execute\u001b[1;34m(self, driver_command, params)\u001b[0m\n\u001b[0;32m    426\u001b[0m response \u001b[38;5;241m=\u001b[39m \u001b[38;5;28mself\u001b[39m\u001b[38;5;241m.\u001b[39mcommand_executor\u001b[38;5;241m.\u001b[39mexecute(driver_command, params)\n\u001b[0;32m    427\u001b[0m \u001b[38;5;28;01mif\u001b[39;00m response:\n\u001b[1;32m--> 428\u001b[0m     \u001b[38;5;28;43mself\u001b[39;49m\u001b[38;5;241;43m.\u001b[39;49m\u001b[43merror_handler\u001b[49m\u001b[38;5;241;43m.\u001b[39;49m\u001b[43mcheck_response\u001b[49m\u001b[43m(\u001b[49m\u001b[43mresponse\u001b[49m\u001b[43m)\u001b[49m\n\u001b[0;32m    429\u001b[0m     response[\u001b[38;5;124m'\u001b[39m\u001b[38;5;124mvalue\u001b[39m\u001b[38;5;124m'\u001b[39m] \u001b[38;5;241m=\u001b[39m \u001b[38;5;28mself\u001b[39m\u001b[38;5;241m.\u001b[39m_unwrap_value(\n\u001b[0;32m    430\u001b[0m         response\u001b[38;5;241m.\u001b[39mget(\u001b[38;5;124m'\u001b[39m\u001b[38;5;124mvalue\u001b[39m\u001b[38;5;124m'\u001b[39m, \u001b[38;5;28;01mNone\u001b[39;00m))\n\u001b[0;32m    431\u001b[0m     \u001b[38;5;28;01mreturn\u001b[39;00m response\n",
      "File \u001b[1;32m~\\anaconda3\\lib\\site-packages\\selenium\\webdriver\\remote\\errorhandler.py:243\u001b[0m, in \u001b[0;36mErrorHandler.check_response\u001b[1;34m(self, response)\u001b[0m\n\u001b[0;32m    241\u001b[0m         alert_text \u001b[38;5;241m=\u001b[39m value[\u001b[38;5;124m'\u001b[39m\u001b[38;5;124malert\u001b[39m\u001b[38;5;124m'\u001b[39m]\u001b[38;5;241m.\u001b[39mget(\u001b[38;5;124m'\u001b[39m\u001b[38;5;124mtext\u001b[39m\u001b[38;5;124m'\u001b[39m)\n\u001b[0;32m    242\u001b[0m     \u001b[38;5;28;01mraise\u001b[39;00m exception_class(message, screen, stacktrace, alert_text)  \u001b[38;5;66;03m# type: ignore[call-arg]  # mypy is not smart enough here\u001b[39;00m\n\u001b[1;32m--> 243\u001b[0m \u001b[38;5;28;01mraise\u001b[39;00m exception_class(message, screen, stacktrace)\n",
      "\u001b[1;31mNoSuchElementException\u001b[0m: Message: no such element: Unable to locate element: {\"method\":\"xpath\",\"selector\":\"//form[@class=\"rui-1Azjs _20jkh\"]/fieldset/div/input\"}\n  (Session info: chrome=107.0.5304.107)\nStacktrace:\nBacktrace:\n\tOrdinal0 [0x00B0ACD3+2075859]\n\tOrdinal0 [0x00A9EE61+1633889]\n\tOrdinal0 [0x0099B7BD+571325]\n\tOrdinal0 [0x009CAC2F+764975]\n\tOrdinal0 [0x009CAE1B+765467]\n\tOrdinal0 [0x009FD0F2+970994]\n\tOrdinal0 [0x009E7364+881508]\n\tOrdinal0 [0x009FB56A+963946]\n\tOrdinal0 [0x009E7136+880950]\n\tOrdinal0 [0x009BFEFD+720637]\n\tOrdinal0 [0x009C0F3F+724799]\n\tGetHandleVerifier [0x00DBEED2+2769538]\n\tGetHandleVerifier [0x00DB0D95+2711877]\n\tGetHandleVerifier [0x00B9A03A+521194]\n\tGetHandleVerifier [0x00B98DA0+516432]\n\tOrdinal0 [0x00AA682C+1665068]\n\tOrdinal0 [0x00AAB128+1683752]\n\tOrdinal0 [0x00AAB215+1683989]\n\tOrdinal0 [0x00AB6484+1729668]\n\tBaseThreadInitThunk [0x75296739+25]\n\tRtlGetFullPathName_UEx [0x77068FD2+1218]\n\tRtlGetFullPathName_UEx [0x77068F9D+1165]\n"
     ]
    }
   ],
   "source": [
    "# For typing cars in search field:-\n",
    "s_field=driver.find_element(By.XPATH,'//form[@class=\"rui-1Azjs _20jkh\"]/fieldset/div/input')\n",
    "s_field.send_keys(\"used cars in delhi\")\n",
    "time.sleep(2)\n",
    "# For Clicking search button:-\n",
    "s_btn=driver.find_element(By.XPATH,'//div[@class=\"_3b3oR\"]')\n",
    "s_btn.click()\n",
    "time.sleep(3)"
   ]
  },
  {
   "cell_type": "code",
   "execution_count": 6,
   "id": "a7524aee",
   "metadata": {},
   "outputs": [],
   "source": [
    "# For Clicking on load button to see more cars data:-\n",
    "for i in range(0,25):\n",
    "    if i>25:\n",
    "        break\n",
    "    else:\n",
    "        load_btn=driver.find_element(By.XPATH,\"//button[@class='rui-39-wj rui-3evoE rui-1JPTg']\")\n",
    "        load_btn.click()\n",
    "        time.sleep(5)\n",
    "    i=i+1"
   ]
  },
  {
   "cell_type": "code",
   "execution_count": 7,
   "id": "a6d6d755",
   "metadata": {},
   "outputs": [],
   "source": [
    "# For defining lists of data to be scraped:-\n",
    "brandname1=[]\n",
    "model1=[]\n",
    "variant1=[]\n",
    "manufacturingyear1=[]\n",
    "fuel1=[]\n",
    "owner1=[]\n",
    "location1=[]\n",
    "price1=[]"
   ]
  },
  {
   "cell_type": "code",
   "execution_count": 8,
   "id": "654a47bf",
   "metadata": {},
   "outputs": [],
   "source": [
    "# For Scraping car manufacturing year data:-\n",
    "try:\n",
    "    for i in driver.find_elements(By.XPATH,\"//span[@class='_2TVI3']\"):\n",
    "        manufacturingyear1.append(i.text)\n",
    "except NoSuchElementException:\n",
    "    manufacturingyear1.append(\"----\")\n",
    "    time.sleep(5)\n",
    "urls=[]\n",
    "for i in range(0,1):\n",
    "    if i>1:\n",
    "        break\n",
    "    a=driver.find_elements(By.XPATH,\"//ul[@class='rl3f9 _3mXOU']/li/a\")\n",
    "    for i in a:\n",
    "        urls.append(i.get_attribute('href'))\n",
    "   \n",
    "    for i in urls:\n",
    "        driver.get(i)\n",
    "        time.sleep(2)"
   ]
  },
  {
   "cell_type": "code",
   "execution_count": 9,
   "id": "f86bf5f9",
   "metadata": {},
   "outputs": [],
   "source": [
    "# For scraping car brands:-\n",
    "try:\n",
    "    for i in driver.find_elements(By.XPATH,'//label[@class=\"rui-2TKcb\"]'):\n",
    "        brandname1.append(i.text)\n",
    "except NoSuchElementException:\n",
    "    brandname1.append(\"----\")"
   ]
  },
  {
   "cell_type": "code",
   "execution_count": 10,
   "id": "12f4c244",
   "metadata": {},
   "outputs": [
    {
     "name": "stdout",
     "output_type": "stream",
     "text": [
      "34\n"
     ]
    }
   ],
   "source": [
    "print(len(brandname1))"
   ]
  },
  {
   "cell_type": "code",
   "execution_count": 11,
   "id": "3d6b37b2",
   "metadata": {},
   "outputs": [
    {
     "data": {
      "text/plain": [
       "['Skoda (5,231)',\n",
       " 'BMW (4,731)',\n",
       " 'Nissan (3,192)',\n",
       " 'Audi (2,368)',\n",
       " 'Kia (2,086)',\n",
       " 'Fiat (1,573)',\n",
       " 'Datsun (1,477)',\n",
       " 'Jeep (1,230)',\n",
       " 'MG (1,117)',\n",
       " 'Land Rover (1,054)',\n",
       " 'Mitsubishi (845)',\n",
       " 'Audi A4',\n",
       " 'Audi A5',\n",
       " 'Audi A6',\n",
       " 'Audi A7',\n",
       " 'Audi A8',\n",
       " 'Audi A8 L',\n",
       " 'Audi Q3',\n",
       " 'Audi Q5',\n",
       " 'Audi Q7',\n",
       " 'Audi R8',\n",
       " 'Audi S6',\n",
       " 'Audi TT',\n",
       " 'First (1,74,545)',\n",
       " 'Second (1,01,121)',\n",
       " 'Third (29,779)',\n",
       " 'Fourth (7,824)',\n",
       " 'More than Four (3,266)',\n",
       " 'Inspected Cars Only (4,163)',\n",
       " 'Petrol (1,42,561)',\n",
       " 'Diesel (1,54,957)',\n",
       " 'LPG (3,678)',\n",
       " 'CNG & Hybrids (23,826)',\n",
       " 'Electric (645)']"
      ]
     },
     "execution_count": 11,
     "metadata": {},
     "output_type": "execute_result"
    }
   ],
   "source": [
    "brandname1"
   ]
  },
  {
   "cell_type": "code",
   "execution_count": 14,
   "id": "bc0dee5c",
   "metadata": {},
   "outputs": [
    {
     "name": "stdout",
     "output_type": "stream",
     "text": [
      "0\n"
     ]
    }
   ],
   "source": [
    "print(len(model1))"
   ]
  },
  {
   "cell_type": "code",
   "execution_count": 12,
   "id": "766688c7",
   "metadata": {},
   "outputs": [],
   "source": [
    "# For scraping car model:-\n",
    "try:\n",
    "    for i in driver.find_elements(By.XPATH,'//div[@class=\"_3Ez9F rui-1Culj\"]'):\n",
    "                model1.append(i.text)\n",
    "except NoSuchElementException:\n",
    "    model1.append(\"----\")"
   ]
  },
  {
   "cell_type": "code",
   "execution_count": 13,
   "id": "520230f3",
   "metadata": {},
   "outputs": [
    {
     "data": {
      "text/plain": [
       "['Skoda (5,231)\\nBMW (4,731)\\nNissan (3,192)\\nAudi (2,368)\\nKia (2,086)\\nFiat (1,573)\\nDatsun (1,477)\\nJeep (1,230)\\nMG (1,117)\\nLand Rover (1,054)\\nMitsubishi (845)',\n",
       " 'Audi A4\\nAudi A5\\nAudi A6\\nAudi A7\\nAudi A8\\nAudi A8 L\\nAudi Q3\\nAudi Q5\\nAudi Q7\\nAudi R8\\nAudi S6\\nAudi TT']"
      ]
     },
     "execution_count": 13,
     "metadata": {},
     "output_type": "execute_result"
    }
   ],
   "source": [
    "model1"
   ]
  },
  {
   "cell_type": "code",
   "execution_count": 14,
   "id": "a44f7bf3",
   "metadata": {},
   "outputs": [],
   "source": [
    "# For scraping the car variant:-\n",
    "try:\n",
    "    for i in driver.find_elements(By.XPATH,'//span[@class=\"_3Eukc\"]'):\n",
    "        variant1.append(i.text)\n",
    "except NoSuchElementException:\n",
    "    variant1.append(\"----\")"
   ]
  },
  {
   "cell_type": "code",
   "execution_count": 15,
   "id": "1e9d06b7",
   "metadata": {},
   "outputs": [
    {
     "name": "stdout",
     "output_type": "stream",
     "text": [
      "16\n"
     ]
    }
   ],
   "source": [
    "print(len(variant1))"
   ]
  },
  {
   "cell_type": "code",
   "execution_count": 16,
   "id": "ce91b886",
   "metadata": {},
   "outputs": [],
   "source": [
    "# For scraping fuel data:-\n",
    "try:\n",
    "    for i in driver.find_elements(By.XPATH,'//div[@class=\"_1un4s rui-1Culj\"]'):\n",
    "                fuel1.append(i.text)\n",
    "except NoSuchElementException:\n",
    "    fuel1.append(\"----\")"
   ]
  },
  {
   "cell_type": "code",
   "execution_count": 17,
   "id": "c7bcb771",
   "metadata": {},
   "outputs": [
    {
     "data": {
      "text/plain": [
       "['First (1,74,545)\\nSecond (1,01,121)\\nThird (29,779)\\nFourth (7,824)\\nMore than Four (3,266)',\n",
       " 'Inspected Cars Only (4,163)',\n",
       " 'Petrol (1,42,561)\\nDiesel (1,54,957)\\nLPG (3,678)\\nCNG & Hybrids (23,826)\\nElectric (645)']"
      ]
     },
     "execution_count": 17,
     "metadata": {},
     "output_type": "execute_result"
    }
   ],
   "source": [
    "fuel1"
   ]
  },
  {
   "cell_type": "code",
   "execution_count": 18,
   "id": "20569270",
   "metadata": {},
   "outputs": [
    {
     "name": "stdout",
     "output_type": "stream",
     "text": [
      "3\n"
     ]
    }
   ],
   "source": [
    "print(len(fuel1))"
   ]
  },
  {
   "cell_type": "code",
   "execution_count": 19,
   "id": "5bfd7bfb",
   "metadata": {},
   "outputs": [],
   "source": [
    "# For scraping car owner no.\n",
    "try:\n",
    "    for i in driver.find_elements(By.XPATH,\"//div[@class='_1l939']/div[1]/div[2]/div[2]\"):\n",
    "        owner1.append(i.text)\n",
    "except NoSuchElementException:\n",
    "    owner1.append(\"----\")"
   ]
  },
  {
   "cell_type": "code",
   "execution_count": 21,
   "id": "1ff00e75",
   "metadata": {},
   "outputs": [],
   "source": [
    "# For scraping Car location:-\n",
    "try:\n",
    "    for i in driver.find_elements(By.XPATH,'//ul[@class=\"_21vyG _1QNTC rui-1Culj _16qLm\"]'):\n",
    "        location1.append(i.text)\n",
    "except NoSuchElementException:\n",
    "    location1.append(\"----\")"
   ]
  },
  {
   "cell_type": "code",
   "execution_count": 22,
   "id": "b2a9af28",
   "metadata": {},
   "outputs": [
    {
     "data": {
      "text/plain": [
       "['India\\nMaharashtra (43,098)\\nTamil Nadu (32,964)\\nKerala (32,782)\\nUttar Pradesh (28,027)\\nDelhi (26,654)\\nKarnataka (20,800)\\nGujarat (19,424)\\nTelangana (16,035)\\nPunjab (15,306)\\nHaryana (13,699)\\nAndhra Pradesh (10,103)\\nMadhya Pradesh (9,815)\\nWest Bengal (9,805)\\nRajasthan (9,349)\\nAssam (5,570)\\nChandigarh (5,465)\\nChhattisgarh (4,969)\\nBihar (4,328)\\nJammu & Kashmir (3,778)\\nUttaranchal (3,687)']"
      ]
     },
     "execution_count": 22,
     "metadata": {},
     "output_type": "execute_result"
    }
   ],
   "source": [
    "location1"
   ]
  },
  {
   "cell_type": "code",
   "execution_count": 24,
   "id": "8450b309",
   "metadata": {},
   "outputs": [],
   "source": [
    "# scraping price of the car\n",
    "try:\n",
    "    for i in driver.find_elements(By.XPATH,\"//div[@class='_3FkyT']\"):\n",
    "        price1.append(i.text)\n",
    "except NoSuchElementException:\n",
    "            price1.append(\"----\")"
   ]
  },
  {
   "cell_type": "code",
   "execution_count": 26,
   "id": "dd9474fe",
   "metadata": {},
   "outputs": [],
   "source": [
    "# For scraping data from first website olx:-\n",
    "driver=webdriver.Chrome(r\"chromedriver.exe\")\n",
    "url=\"https://www.olx.in\"\n",
    "driver.get(url)\n",
    "time.sleep(2)"
   ]
  },
  {
   "cell_type": "code",
   "execution_count": 28,
   "id": "7118a4ea",
   "metadata": {},
   "outputs": [
    {
     "ename": "AttributeError",
     "evalue": "'list' object has no attribute 'send_keys'",
     "output_type": "error",
     "traceback": [
      "\u001b[1;31m---------------------------------------------------------------------------\u001b[0m",
      "\u001b[1;31mAttributeError\u001b[0m                            Traceback (most recent call last)",
      "Input \u001b[1;32mIn [28]\u001b[0m, in \u001b[0;36m<cell line: 3>\u001b[1;34m()\u001b[0m\n\u001b[0;32m      1\u001b[0m \u001b[38;5;66;03m# For typing cars in search field:-\u001b[39;00m\n\u001b[0;32m      2\u001b[0m s_field\u001b[38;5;241m=\u001b[39mdriver\u001b[38;5;241m.\u001b[39mfind_elements(By\u001b[38;5;241m.\u001b[39mXPATH,\u001b[38;5;124m'\u001b[39m\u001b[38;5;124m//form[@class=\u001b[39m\u001b[38;5;124m\"\u001b[39m\u001b[38;5;124mrui-1Azjs _20jkh\u001b[39m\u001b[38;5;124m\"\u001b[39m\u001b[38;5;124m]/fieldset/div/input\u001b[39m\u001b[38;5;124m'\u001b[39m)\n\u001b[1;32m----> 3\u001b[0m \u001b[43ms_field\u001b[49m\u001b[38;5;241;43m.\u001b[39;49m\u001b[43msend_keys\u001b[49m(\u001b[38;5;124m\"\u001b[39m\u001b[38;5;124mused cars in mumbai\u001b[39m\u001b[38;5;124m\"\u001b[39m)\n\u001b[0;32m      4\u001b[0m time\u001b[38;5;241m.\u001b[39msleep(\u001b[38;5;241m2\u001b[39m)\n\u001b[0;32m      5\u001b[0m s_btn\u001b[38;5;241m=\u001b[39mdriver\u001b[38;5;241m.\u001b[39mfind_elements(By\u001b[38;5;241m.\u001b[39mXPATH,\u001b[38;5;124m'\u001b[39m\u001b[38;5;124m//div[@class=\u001b[39m\u001b[38;5;124m\"\u001b[39m\u001b[38;5;124m_3b3oR\u001b[39m\u001b[38;5;124m\"\u001b[39m\u001b[38;5;124m]\u001b[39m\u001b[38;5;124m'\u001b[39m)\n",
      "\u001b[1;31mAttributeError\u001b[0m: 'list' object has no attribute 'send_keys'"
     ]
    }
   ],
   "source": [
    "# For typing cars in search field:-\n",
    "s_field=driver.find_elements(By.XPATH,'//form[@class=\"rui-1Azjs _20jkh\"]/fieldset/div/input')\n",
    "s_field.send_keys(\"used cars in mumbai\")\n",
    "time.sleep(2)\n",
    "s_btn=driver.find_elements(By.XPATH,'//div[@class=\"_3b3oR\"]')\n",
    "s_btn.click()\n",
    "time.sleep(3)"
   ]
  },
  {
   "cell_type": "code",
   "execution_count": 29,
   "id": "ca0cf299",
   "metadata": {},
   "outputs": [
    {
     "ename": "AttributeError",
     "evalue": "'list' object has no attribute 'click'",
     "output_type": "error",
     "traceback": [
      "\u001b[1;31m---------------------------------------------------------------------------\u001b[0m",
      "\u001b[1;31mAttributeError\u001b[0m                            Traceback (most recent call last)",
      "Input \u001b[1;32mIn [29]\u001b[0m, in \u001b[0;36m<cell line: 2>\u001b[1;34m()\u001b[0m\n\u001b[0;32m      5\u001b[0m \u001b[38;5;28;01melse\u001b[39;00m:\n\u001b[0;32m      6\u001b[0m     load_btn\u001b[38;5;241m=\u001b[39mdriver\u001b[38;5;241m.\u001b[39mfind_elements(By\u001b[38;5;241m.\u001b[39mXPATH,\u001b[38;5;124m\"\u001b[39m\u001b[38;5;124m//button[@class=\u001b[39m\u001b[38;5;124m'\u001b[39m\u001b[38;5;124mrui-39-wj rui-3evoE rui-1JPTg\u001b[39m\u001b[38;5;124m'\u001b[39m\u001b[38;5;124m]\u001b[39m\u001b[38;5;124m\"\u001b[39m)\n\u001b[1;32m----> 7\u001b[0m     \u001b[43mload_btn\u001b[49m\u001b[38;5;241;43m.\u001b[39;49m\u001b[43mclick\u001b[49m()\n\u001b[0;32m      8\u001b[0m     time\u001b[38;5;241m.\u001b[39msleep(\u001b[38;5;241m5\u001b[39m)\n\u001b[0;32m      9\u001b[0m i\u001b[38;5;241m=\u001b[39mi\u001b[38;5;241m+\u001b[39m\u001b[38;5;241m1\u001b[39m\n",
      "\u001b[1;31mAttributeError\u001b[0m: 'list' object has no attribute 'click'"
     ]
    }
   ],
   "source": [
    "# For Clicking on load button:-\n",
    "for i in range(0,25):\n",
    "    if i>25:\n",
    "        break\n",
    "    else:\n",
    "        load_btn=driver.find_elements(By.XPATH,\"//button[@class='rui-39-wj rui-3evoE rui-1JPTg']\")\n",
    "        load_btn.click()\n",
    "        time.sleep(5)\n",
    "    i=i+1"
   ]
  },
  {
   "cell_type": "code",
   "execution_count": 30,
   "id": "76a80017",
   "metadata": {},
   "outputs": [],
   "source": [
    "# For scraping another site data:-\n",
    "brandname2=[]\n",
    "model2=[]\n",
    "variant2=[]\n",
    "manufacturingyear2=[]\n",
    "fuel2=[]\n",
    "owner2=[]\n",
    "location2=[]\n",
    "price2=[]"
   ]
  },
  {
   "cell_type": "code",
   "execution_count": 31,
   "id": "77ec7b9f",
   "metadata": {},
   "outputs": [],
   "source": [
    "# For Scraping car manufacturing year:-\n",
    "try:\n",
    "    for i in driver.find_elements(By.XPATH,'//span[@class=\"_2TVI3\"]'):\n",
    "        manufacturingyear2.append(i.text)\n",
    "except NoSuchElementException:\n",
    "    manufacturingyear2.append(\"----\")\n",
    "    time.sleep(5)\n",
    "urls=[]\n",
    "for i in range(0,1):\n",
    "    if i>1:\n",
    "        break\n",
    "    a=driver.find_elements(By.XPATH,'//ul[@class=\"rl3f9 _3mXOU\"]/li/a')\n",
    "    for i in a:\n",
    "        urls.append(i.get_attribute('href'))\n",
    "   \n",
    "    for i in urls:\n",
    "        driver.get(i)\n",
    "        time.sleep(2)"
   ]
  },
  {
   "cell_type": "code",
   "execution_count": 33,
   "id": "d3167d82",
   "metadata": {},
   "outputs": [],
   "source": [
    "# For scraping car brands data:-\n",
    "try:\n",
    "    for i in driver.find_elements(By.XPATH,\"//div[@class='_35xN1']\"):\n",
    "        brandname2.append(i.text)\n",
    "except NoSuchElementException:\n",
    "    brandname2.append(\"----\")"
   ]
  },
  {
   "cell_type": "code",
   "execution_count": 36,
   "id": "57dbc4a1",
   "metadata": {},
   "outputs": [],
   "source": [
    "# For scraping car model data:-\n",
    "try:\n",
    "    for i in driver.find_elements(By.XPATH,'//div[@class=\"_3Ez9F rui-1Culj\"]'):\n",
    "        model2.append(i.text)\n",
    "except NoSuchElementException:\n",
    "    model2.append(\"----\")"
   ]
  },
  {
   "cell_type": "code",
   "execution_count": 37,
   "id": "8e296b4e",
   "metadata": {},
   "outputs": [
    {
     "data": {
      "text/plain": [
       "['Maruti Suzuki (1,08,390)\\nHyundai (55,468)\\nMahindra (29,216)\\nHonda (21,667)\\nTata (20,326)\\nToyota (18,222)\\nFord (11,384)\\nVolkswagen (8,773)\\nRenault (8,085)',\n",
       " 'A8l\\nAmbassador Ambassador\\nAshok Leyland Stile\\nAston Martin DB11\\nAston Martin DB9\\nAston Martin DBS\\nAston Martin One 77\\nAston Martin Rapide\\nAston Martin V12 Vantage']"
      ]
     },
     "execution_count": 37,
     "metadata": {},
     "output_type": "execute_result"
    }
   ],
   "source": [
    "model2"
   ]
  },
  {
   "cell_type": "code",
   "execution_count": 44,
   "id": "74e4a3b9",
   "metadata": {},
   "outputs": [],
   "source": [
    "# For scraping car variant data:-\n",
    "try:\n",
    "    for i in driver.find_elements(By.XPATH,'//div[@class=\"aOxkz\"]/div[3]'):\n",
    "        variant2.append(i.text)\n",
    "except NoSuchElementException:\n",
    "    variant2.append(\"----\")"
   ]
  },
  {
   "cell_type": "code",
   "execution_count": 45,
   "id": "8f2373f6",
   "metadata": {},
   "outputs": [
    {
     "data": {
      "text/plain": [
       "['All Categories\\nCars (3,28,241)',\n",
       " 'India\\nMaharashtra (43,100)\\nTamil Nadu (32,967)\\nKerala (32,785)\\nUttar Pradesh (28,039)\\nDelhi (26,661)\\nKarnataka (20,807)\\nGujarat (19,426)\\nTelangana (16,043)\\nPunjab (15,308)\\nHaryana (13,699)\\nAndhra Pradesh (10,104)\\nMadhya Pradesh (9,819)\\nWest Bengal (9,808)\\nRajasthan (9,349)\\nAssam (5,570)\\nChandigarh (5,465)\\nChhattisgarh (4,971)\\nBihar (4,328)\\nJammu & Kashmir (3,780)\\nUttaranchal (3,687)',\n",
       " 'POPULAR BRANDS\\nALL BRANDS\\nMaruti Suzuki (1,08,390)\\nHyundai (55,468)\\nMahindra (29,216)\\nHonda (21,667)\\nTata (20,326)\\nToyota (18,222)\\nFord (11,384)\\nVolkswagen (8,773)\\nRenault (8,085)\\nALL MODELS\\nA8l\\nAmbassador Ambassador\\nAshok Leyland Stile\\nAston Martin DB11\\nAston Martin DB9\\nAston Martin DBS\\nAston Martin One 77\\nAston Martin Rapide\\nAston Martin V12 Vantage',\n",
       " 'Choose from options below\\nBelow 1 Lac\\n19,600+ items\\n1 Lac - 2 Lac\\n47,700+ items\\n2 Lac - 3 Lac\\n48,500+ items\\n3 Lac - 5 Lac\\n79,400+ items\\n5 Lac and Above\\n1,30,000+ items\\nChoose a range below\\n0\\n10,00,000+\\napply',\n",
       " 'Choose from options below\\nUnder 3 Years\\n25,100+ items\\nUnder 5 Years\\n71,000+ items\\nUnder 7 Years\\n1,20,000+ items\\n7 Years and Above\\n1,60,000+ items\\nChoose a range below\\nto\\napply',\n",
       " 'Choose from below options\\nFirst (1,74,585)\\nSecond (1,01,128)\\nThird (29,787)\\nFourth (7,828)\\nMore than Four (3,266)',\n",
       " 'Choose from below options\\nInspected Cars Only (4,163)',\n",
       " 'Choose from options below (km)\\nBelow 25000 km\\n25,100+ items\\n25000 km - 50000 km\\n28,100+ items\\n50000 km - 75000 km\\n45,700+ items\\n75000 km - 100000 km\\n43,100+ items\\n100000 km and Above\\n50,200+ items\\nChoose a range below (km)\\n0\\n2,00,000+\\napply',\n",
       " 'Choose from below options\\nPetrol (1,42,588)\\nDiesel (1,54,982)\\nLPG (3,681)\\nCNG & Hybrids (23,829)\\nElectric (646)',\n",
       " 'Choose from below options\\nAutomatic\\n59,100+ items\\nManual\\n2,50,000+ items']"
      ]
     },
     "execution_count": 45,
     "metadata": {},
     "output_type": "execute_result"
    }
   ],
   "source": [
    "variant2"
   ]
  },
  {
   "cell_type": "code",
   "execution_count": 46,
   "id": "3862dd9b",
   "metadata": {},
   "outputs": [],
   "source": [
    "# For scraping car fuel data:-\n",
    "try:\n",
    "    for i in driver.find_elements(By.XPATH,\"//div[@class='aOxkz']/div[1]\"):\n",
    "        fuel2.append(i.text)\n",
    "except NoSuchElementException:\n",
    "    fuel2.append(\"----\")"
   ]
  },
  {
   "cell_type": "code",
   "execution_count": 48,
   "id": "31f68562",
   "metadata": {},
   "outputs": [],
   "source": [
    "# scraping car Owner No. data:-\n",
    "try:\n",
    "    for i in driver.find_elements(By.XPATH,'//div[@class=\"_1un4s rui-1Culj\"]'):\n",
    "        owner2.append(i.text)\n",
    "except NoSuchElementException:\n",
    "    owner2.append(\"----\")"
   ]
  },
  {
   "cell_type": "code",
   "execution_count": 49,
   "id": "f05f136d",
   "metadata": {},
   "outputs": [
    {
     "data": {
      "text/plain": [
       "['First (1,74,585)\\nSecond (1,01,128)\\nThird (29,787)\\nFourth (7,828)\\nMore than Four (3,266)',\n",
       " 'Inspected Cars Only (4,163)',\n",
       " 'Petrol (1,42,588)\\nDiesel (1,54,982)\\nLPG (3,681)\\nCNG & Hybrids (23,829)\\nElectric (646)']"
      ]
     },
     "execution_count": 49,
     "metadata": {},
     "output_type": "execute_result"
    }
   ],
   "source": [
    "owner2"
   ]
  },
  {
   "cell_type": "code",
   "execution_count": 53,
   "id": "a2065b65",
   "metadata": {},
   "outputs": [],
   "source": [
    "# scraping car location data:-\n",
    "try:\n",
    "    for i in driver.find_elements(By.XPATH,'//div[@class=\"_275cI _2lVe2 _2JePH\"]'):\n",
    "        location2.append(i.text)\n",
    "except NoSuchElementException:\n",
    "    location2.append(\"----\")"
   ]
  },
  {
   "cell_type": "code",
   "execution_count": 54,
   "id": "a2621cd5",
   "metadata": {},
   "outputs": [
    {
     "data": {
      "text/plain": [
       "['LOCATIONS\\nIndia\\nMaharashtra (43,100)\\nTamil Nadu (32,967)\\nKerala (32,785)\\nUttar Pradesh (28,039)\\nDelhi (26,661)\\nKarnataka (20,807)\\nGujarat (19,426)\\nTelangana (16,043)\\nPunjab (15,308)\\nHaryana (13,699)\\nAndhra Pradesh (10,104)\\nMadhya Pradesh (9,819)\\nWest Bengal (9,808)\\nRajasthan (9,349)\\nAssam (5,570)\\nChandigarh (5,465)\\nChhattisgarh (4,971)\\nBihar (4,328)\\nJammu & Kashmir (3,780)\\nUttaranchal (3,687)']"
      ]
     },
     "execution_count": 54,
     "metadata": {},
     "output_type": "execute_result"
    }
   ],
   "source": [
    "location2"
   ]
  },
  {
   "cell_type": "code",
   "execution_count": 57,
   "id": "71c1c967",
   "metadata": {},
   "outputs": [],
   "source": [
    "# scraping price of the car\n",
    "try:\n",
    "    for i in driver.find_elements(By.XPATH,'//div[@class=\"_3NhSe\"]'):\n",
    "        price2.append(i.text)\n",
    "except NoSuchElementException:\n",
    "    price2.append(\"----\")"
   ]
  },
  {
   "cell_type": "code",
   "execution_count": 58,
   "id": "9f78797f",
   "metadata": {},
   "outputs": [
    {
     "data": {
      "text/plain": [
       "['Below 1 Lac\\n19,600+ items\\n1 Lac - 2 Lac\\n47,700+ items\\n2 Lac - 3 Lac\\n48,500+ items\\n3 Lac - 5 Lac\\n79,400+ items\\n5 Lac and Above\\n1,30,000+ items',\n",
       " 'Under 3 Years\\n25,100+ items\\nUnder 5 Years\\n71,000+ items\\nUnder 7 Years\\n1,20,000+ items\\n7 Years and Above\\n1,60,000+ items',\n",
       " 'Below 25000 km\\n25,100+ items\\n25000 km - 50000 km\\n28,100+ items\\n50000 km - 75000 km\\n45,700+ items\\n75000 km - 100000 km\\n43,100+ items\\n100000 km and Above\\n50,200+ items']"
      ]
     },
     "execution_count": 58,
     "metadata": {},
     "output_type": "execute_result"
    }
   ],
   "source": [
    "price2"
   ]
  },
  {
   "cell_type": "code",
   "execution_count": null,
   "id": "1a18bc6c",
   "metadata": {},
   "outputs": [],
   "source": []
  }
 ],
 "metadata": {
  "kernelspec": {
   "display_name": "Python 3 (ipykernel)",
   "language": "python",
   "name": "python3"
  },
  "language_info": {
   "codemirror_mode": {
    "name": "ipython",
    "version": 3
   },
   "file_extension": ".py",
   "mimetype": "text/x-python",
   "name": "python",
   "nbconvert_exporter": "python",
   "pygments_lexer": "ipython3",
   "version": "3.9.12"
  }
 },
 "nbformat": 4,
 "nbformat_minor": 5
}
